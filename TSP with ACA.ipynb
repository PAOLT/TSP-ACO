{
 "cells": [
  {
   "cell_type": "markdown",
   "metadata": {},
   "source": [
    "<h1>Solving the Traveling Santa Problem with an Ants Colony Algorithm</h1>"
   ]
  },
  {
   "cell_type": "markdown",
   "metadata": {},
   "source": [
    "An Ants Colony Algorithm is given to solve the challenge set in Kaggle described [here] (https://www.kaggle.com/c/traveling-santa-problem) and quoted below:\n",
    "\n",
    "\n",
    ">Santa asked that we give you one particular instance of his TSP (Traveling Santa Problem). However, Santa's dilemma isn't quite the same as the Traveling Salesman Problem with which you may be familiar. Santa likes to see new terrain every year--don't ask, it's a reindeer thing--and doesn't want his route to be predictable.\n",
    "\n",
    ">You're looking for shortest-distance paths through a set of chimneys, but instead of providing one path, Santa asks you to provide two disjoint paths. If one of your paths contains an edge from A to B, your other path must not contain an edge from A to B or from B to A (either order still counts as using that edge). Your score is the larger of the two distances. \n",
    "\n",
    "The general approach is using two different competing colonies, each to find one of the required cheminies. As the challenge requires to minimize the lenght of the longest cheminy, we do not really want the two colonies to compete. Instead, we want one of them to find the best path ever, and the second one to find the second best path. \n",
    "\n",
    "The challenge provides as source data a CSV file with 150.000 elements with the following very simple structure:\n",
    "- name of a city (node)\n",
    "- latitude \n",
    "- longitude "
   ]
  },
  {
   "cell_type": "markdown",
   "metadata": {},
   "source": [
    "<h2>General description of the algoithm</h2>"
   ]
  },
  {
   "cell_type": "markdown",
   "metadata": {},
   "source": [
    "The source data set has been imported and represented as a **weighted, oriented graph**, where *each node represents a city*, and *each edge represents an atomic step*, whose weight is the euclidean distance between the two connected cities. \n",
    "\n",
    "The algorithm is based on two phases:\n",
    "1) Exploration of the graph space (**exploring ants**)\n",
    "2) Hunting the solution (two cheminies) to the challenge (**hunting ants**)\n",
    "\n",
    "During the first phase ants visit the graph by chosing at each node a random edge between those leading to the *n* closest, not yet visited nodes. *n* is a parameter of the algorithm. The main purpose of this solution is leaving feromone on edges.\n",
    "\n",
    "During the second phase, ants prioritize edges based on the amount of feromone. When the feromone left on a certain edge by a certain colony is strong enough, it is said to be a **prime edge**. A prime edge is assigned to the final solution for a certain colony. The final solution is sequentially composed ant by ant, iteration after iteration, and it is not identified as a whole. *Strong enough* is defined by euristics.\n",
    "\n",
    "The main reason for having two phases is avoiding ants to pick always the same few edges just because they have been selected once or two, and being among the very few holding a probably small amount of pheromone. So basically befor start chosing a way, we want to be sure a reasonable number of ants have been walking and leaving feromone.\n",
    "\n",
    "Observing ants in nature provides the intuition that they move in an almost random way at start, and they converge to the right way after a while, wehen feromone is strong and stable enough.\n",
    "\n",
    "Ants are divided into two colonies, competing to find their best solution. The two colonies will provide the two solutions required by the Kaggle challenge. It is worth to note, as highlighted in the paper, that the first colony release a more powerful feromone in order to avoid real competition, and have one colony to converge faster over the \"best\" solution, and the second follow in the convergence process to the \"second best\" solution.\n",
    "\n",
    "A distinctive characteristics of this solution is cluster management. Clusters are used to reduce the complexity of the problem (the number of nodes and edges) but, instead of defining cluster statically, we use ants to generate clusters. As soon a prime edge is identified, its source node (or source cluster) and its target node (or target cluster) are merged in a single cluster."
   ]
  },
  {
   "cell_type": "markdown",
   "metadata": {},
   "source": [
    "<h2>Data representation</h2>"
   ]
  },
  {
   "cell_type": "markdown",
   "metadata": {},
   "source": [
    "As said, the main data structure for the algorithm is a graph, implemented as a *list of dictionaries in Python*. An element (a dictionary) has a *node name as the key* and an *inner dictionary as the value*, holding the edges structure for that node.\n",
    "\n",
    "The inner dictionary has an *edge name as the key*, and a *second inner dictionary as the value*, holding the following leaf information:\n",
    "\n",
    "1. key <\\'lb\\'> holds a label for the edge, that can be <way> (the edge is clear and can be selected by ants), <way1> (the edge has been assigned to the final solution for the first colony), <way2> (similar to <way1>) and <blocked> (when an edge is assigned to the final solution, the inverse edge is retired to cope with Kaggle's requirement).\n",
    "\n",
    "2. key <\\'nn\\'> holds the target node for the edge.\n",
    "\n",
    "3. key <\\'w\\'> holds the edge's weight.\n",
    "\n",
    "4. key <\\'f1\\'> holds the feromone left by the first colony. \n",
    "\n",
    "5. key <\\'f2\\'> holds the pheromone left by the second colony. "
   ]
  },
  {
   "cell_type": "markdown",
   "metadata": {},
   "source": [
    "This release of the software is strongly sequential, as it runs ants from the two colonies one by one. Clearly the software could be improved by exploiting parallelism, by running ants concurrently. It is worth to note that the data structure for the edge can hold the feromone for two distinct colonies, and colony is a parameter in almost all (if not all) procedures. Although this is pretty useless in the current, deeply sequential, release of the software, it permits to exploit parallelism in a second wave. It would be necessary to run ants in parallel from a multi-threaded host (i.e. a few ants per thread), and modify the graph data structure to permit concurrency (i.e. by lockin resources during updates)."
   ]
  },
  {
   "cell_type": "markdown",
   "metadata": {},
   "source": [
    "The following piece of code reads the source CSV file and generates a list of dictionaries with a key for nodes and empty values for edges. With 150.000 nodes, possible edges are 22,5 billions. Instead of generating all of them, ants are levereged to generate only the most useful ones during the exploration phase."
   ]
  },
  {
   "cell_type": "code",
   "execution_count": null,
   "metadata": {
    "collapsed": true
   },
   "outputs": [],
   "source": [
    "N = {}\n",
    "with open('c:\\source.csv') as f:\n",
    "    rows = csv.DictReader(f)\n",
    "    for r in rows:\n",
    "        node = {'id':r['id'], 'x':int(r['x']), 'y':int(r['y'])}\n",
    "        N.append(node)\n",
    "\n",
    "g = {}\n",
    "tot_nodes = len(N)\n",
    "for i in range(tot_nodes):\n",
    "    client[N[i]['id']]={}"
   ]
  },
  {
   "cell_type": "markdown",
   "metadata": {},
   "source": [
    "Before starting exploring ants we calculate an important parameter (**alpha**), that will be used to normalize the calculation of the amount of feromone to leave on a certain edge. This is important to avoid too small amounts that might be rounded to zero. \n",
    "\n",
    "The feromone to leave on a certain edge <e>, being part of a valid cheminy <c> is given by the following formula:\n",
    "\n",
    "f = \\frac{w(\\theta)}{w(c)}*\\frac{\\theta}{n * w(e)}\n",
    "\n",
    "where \\w is a function that returns the weight, \\theta is the baseline solution, \\c is a cheminy, \\e is an edge and \\n is the number of nodes in the graph.\n",
    "\n",
    "A baseline solution is calculated with the procedure <baseline_perf>. It is determined with a simple space filling function, assuming cities to be distributed uniformally in *n* (<n = 150000>) rectangles of size dx * dy.\n",
    "\n",
    "After having calculated <alpha> the amount of feromone to leave on a certain edge is computed as <ff = alpha / (weight * all_weight)>, where <weight> is the weight of the edge, and <all_weight> is the weight of the full path."
   ]
  },
  {
   "cell_type": "code",
   "execution_count": null,
   "metadata": {
    "collapsed": true
   },
   "outputs": [],
   "source": [
    "def baseline_perf(N): #calculates the weight of the baselline solution\n",
    "    max_x = max(N, key=lambda r:r['x'])\n",
    "    max_y = max(N, key=lambda r:r['y']) \n",
    "    dy = max_y['y'] / math.sqrt(len(N))\n",
    "    dx = max_x['x'] / math.sqrt(len(N))\n",
    "    return math.sqrt(dx**2 + dy**2) * len(N)\n",
    " \n",
    "alpha = baseline_perf(N)**2 / len(N)"
   ]
  },
  {
   "cell_type": "markdown",
   "metadata": {
    "collapsed": true
   },
   "source": [
    "<h2>Exploring ants</h2>"
   ]
  },
  {
   "cell_type": "markdown",
   "metadata": {},
   "source": [
    "The following piece of code fires ants during the exloration phase, where <e_ant> implement an exploring ant. It finds a complete cheminy from the origin node back to the origin node, by touching all nodes exactly once. \n",
    "\n",
    "<e_ants> gets the following parameters:\n",
    "- <g> is a pointer to the graph\n",
    "- <N> is the pointer to the list of nodes and their (x,y) coordinates\n",
    "- <origin> is the name of the origin node\n",
    "- <colony1> and <colony2> are constants indicating the name of the colony\n",
    "- <alpha> is a constant used to calculate the pheromont amount to leave\n",
    "It returns the total lenght of the solution identified. In addition <e_ant> leave feromone on edges that will be leveraged by  the hunting phase."
   ]
  },
  {
   "cell_type": "code",
   "execution_count": null,
   "metadata": {
    "collapsed": true
   },
   "outputs": [],
   "source": [
    "for j in range(num_iterations):\n",
    "        w1 = e_ant(g, N, origin, colony1, alpha)\n",
    "        w2 = e_ant(g, N, origin, colony2, alpha)"
   ]
  },
  {
   "cell_type": "markdown",
   "metadata": {},
   "source": [
    "Exploring ants are run a finite number of times (<num_iterations>). Although it has been noticed with a reduced data set that after a certain amount of iterations the average number of edges per node gets stable (and feromone then start to be accumulated on that set of edges mainly), for the full data set and the computing resources at our disposal we have not been able to identify that critical point. So we limited the number of iterations to a reasonable amount based on computing time (one single exploring ant takes circa 210 seconds)."
   ]
  },
  {
   "cell_type": "markdown",
   "metadata": {},
   "source": [
    "The code of the exploring ant is implemented in the following iterative procedure:\n",
    "- it first find a valid path, that starts from origin and come back to origin after having touched all the nodes exactly once\n",
    "- while moving forward it calculates the total weight of the cheminy, by summing up the weight of each edge\n",
    "- then the cheminy is visited back and feromone is left accordingly to the formula described above\n",
    "\n",
    "It is worth to note that we leave feromone only after having identified a valid path.\n",
    "\n",
    "The procedure employs the following data structures:\n",
    "- <vis> is a list of booleans, indicating if a node has been visited or not during a certain iteration\n",
    "- <stk> is a stack for storing the cheminy steps while moving forward\n",
    "- <n> stores the number of nodes added to the cheminy, and it is used for the termination condition <n \\< len(g)>\n",
    "- <node> stores the current node under evaluation\n",
    "- <all-weight> stores the accumulated weight of the cheminy\n",
    "- <NN>, <x> and <y> stores the cities and their coordinates\n",
    "- <T> stores a querable representation of the space\n"
   ]
  },
  {
   "cell_type": "code",
   "execution_count": null,
   "metadata": {
    "collapsed": true
   },
   "outputs": [],
   "source": [
    "def e_ant(g, N, origin, colony, alpha):\n",
    "    \n",
    "    vis = [False] * len(g) \n",
    "    stk = [] \n",
    "\n",
    "    node = origin\n",
    "    all_weight = 0\n",
    "    n = 1 \n",
    "\n",
    "    NN = [{'id':N[i]['id'], 'x':N[i]['x'], 'y':N[i]['y']} for i in range(len(N))]\n",
    "    x = [N[i]['x'] for i in range(len(N))]\n",
    "    y = [N[i]['y'] for i in range(len(N))]\n",
    "    T = cKDTree(np.c_[x, y])\n",
    "    \n",
    "    # walk forward through the graph and stack the steps of a valid path\n",
    "    while n < len(g):  \n",
    "        \n",
    "        if (n % tree_refresh_interval) == 0: #refresh tree\n",
    "            NN, x, y, T = refresh_tree(NN, x, y, vis)\n",
    "        \n",
    "        # get the successor for node, insert it into the stack, mark the node as visited in vis \n",
    "        # increase all_weight and increase counters\n",
    "        n_edge = query_edges(T, N[int(node)]['x'], N[int(node)]['y'], NN, vis, node, origin, n)\n",
    "        stk.append((node, n_edge))\n",
    "        vis[int(node)] = True\n",
    "        all_weight += n_edge['w']\n",
    "        node = n_edge['nn']\n",
    "        n += 1\n",
    "    \n",
    "    #sum up the last node weight\n",
    "    n = int(node)\n",
    "    o = int(origin)\n",
    "    all_weight += math.sqrt((N[n]['x']-N[o]['x'])**2 + (N[n]['y']-N[o]['y'])**2)\n",
    "\n",
    "    # start the trip back, popping the stack\n",
    "    while stk != []:\n",
    "        s = stk.pop() \n",
    "        s_node = s[0]\n",
    "        edge = s[1]['edge']\n",
    "        t_node = s[1]['nn']\n",
    "        w = s[1]['w'] \n",
    "        \n",
    "        # upserts edges into the graph, relising the right amount of feromone\n",
    "        if edge not in list(g[s_node].keys()): \n",
    "            add_edge(g, s_node, t_node, edge, 'way', w, 0, 0, 0) \n",
    "        release_feromone(g, s_node, edge, colony, 'increase', w, all_weight, alpha)\n",
    "\n",
    "    return all_weight"
   ]
  },
  {
   "cell_type": "markdown",
   "metadata": {},
   "source": [
    "It is worth to note that we used the [scipy.spatial.cKDTree] (https://docs.scipy.org/doc/scipy/reference/generated/scipy.spatial.cKDTree.html) class to query nodes by distance. Given a root node, the query method provides a list of nodes and their distance from the root node, sorted by distance.\n",
    "\n",
    ">scipy.spatial.cKDTree \"provides an index into a set of k-dimensional points which can be used to rapidly look up the nearest neighbors of any point. The algorithm used is described in Maneewongvatana and Mount 1999. The general idea is that the kd-tree is a binary trie, each of whose nodes represents an axis-aligned hyperrectangle. Each node specifies an axis and splits the set of points based on whether their coordinate along that axis is greater than or less than a particular value\".\n",
    "\n",
    "The criteria behind the <e_ant> algorithm is that it starts from the origin and for each node selects randomly the next node among the closest that have not already been visited. This has been implemeted in the <query_edges> procedure that returns the successor for a node with coordinates <(node_x, node_y)>:\n",
    "- <NN> holds all the nodes that have not already been visited\n",
    "- <T> is the tree\n",
    "\n",
    "In addition the following parameters are used:"
   ]
  },
  {
   "cell_type": "code",
   "execution_count": null,
   "metadata": {
    "collapsed": true
   },
   "outputs": [],
   "source": [
    "tree_refresh_interval = 10000 #every how many iterations to refresh the tree\n",
    "max_randomity = 10 #number of edges, among those leading to non visited nodes, to chose from in a random way\n",
    "tree_batch_size = 100 #size of the list of successors to read within a single query to the tree\n",
    "num_iterations = 10 #number of ants to explore the graph"
   ]
  },
  {
   "cell_type": "code",
   "execution_count": null,
   "metadata": {
    "collapsed": true
   },
   "outputs": [],
   "source": [
    "def query_edges(T, node_x, node_y, NN, vis, node, origin, n):\n",
    "    i = 0\n",
    "    nn_list = []\n",
    "    while nn_list == [] or i == 0:\n",
    "        i = i + 1 \n",
    "        batch_nodes = range(1+tree_batch_size * (i-1), min(1+tree_batch_size * i, len(NN)+1))\n",
    "        ww, ii = T.query([node_x, node_y], k=batch_nodes,n_jobs=-1) #i-th closest\n",
    "        n_list = [NN[i]['id'] for i in ii]\n",
    "        nn_list = list(filter(lambda x: not vis[int(x)] and x not in (origin, node), n_list))\n",
    "\n",
    "    nn_idx = int(random.uniform(0,min(max_randomity, len(nn_list)-1)))\n",
    "    nn = nn_list[nn_idx]\n",
    "    e = 'e_' + node + ':' + nn        \n",
    "    return {'edge':e, 'nn':nn, 'w':ww[nn_idx]}"
   ]
  },
  {
   "cell_type": "markdown",
   "metadata": {},
   "source": [
    "<max_randomity> is largerly responsible for how many edges are generated per node, and it interacts with how many exploring ants are run (<num_iterations>). The larger they are, the larger is the average number of edges generated per node. With 100 ants and <max_randomity = 3> we had *circa 22 edges per node in average*. This is very important because the hunting ants will fail to identify a cheminy if they will rely on too few edges per node. Reasons for this stay behind the combinatorial nature of the TSP problem. It would be worth as a future work to study the distribution of discovered edges over iterations, and a model to size the exploring phase in order to have the hunting phase converging. For this implementation we simply let hunting ants to query again the tree when they run out of edges.\n",
    "\n",
    "It is worth to note that every 10.000 nodes discovered the tree is refreshed for performance reasons: all the nodes already visited are cancelled from <NN>, <x> and <y>, and the tree recomputed. We obtained significant performance improvement, but we need to realign the indexes returned by the tree to the the graph data structure (that hold all the nodes vs. a subset of them)."
   ]
  },
  {
   "cell_type": "code",
   "execution_count": null,
   "metadata": {
    "collapsed": true
   },
   "outputs": [],
   "source": [
    "def refresh_tree(NN, x, y, vis):\n",
    "    x = [x[i] for i in range(len(x)) if not vis[int(NN[i]['id'])]]\n",
    "    y = [y[i] for i in range(len(y)) if not vis[int(NN[i]['id'])]]\n",
    "    NN = [NN[i] for i in range(len(NN)) if not vis[int(NN[i]['id'])]] \n",
    "    T = cKDTree(np.c_[x, y])\n",
    "    return NN, x, y, T"
   ]
  },
  {
   "cell_type": "markdown",
   "metadata": {},
   "source": [
    "Feromone is released when the ant gets back, once a valid cheminy has been identified. The following fragment of code represents where this work is done within the <release_feromone> procedure. The <direction> parameter controls the scenario underneath feromone is released. <fer1> and <fer2> controls the power of feromone left by the two colonies."
   ]
  },
  {
   "cell_type": "code",
   "execution_count": null,
   "metadata": {
    "collapsed": true
   },
   "outputs": [],
   "source": [
    "fer1 = 1 #feromon power for first colony \n",
    "fer2 = 0.5 #feromon power for second colony \n",
    "\n",
    "def release_feromone (graph, node, edge, colony, direction, weight, all_weight, alpha):\n",
    "        ...\n",
    "    #feromone left by exploring ants\n",
    "    elif direction == \"increase\":\n",
    "        ff = alpha / (weight * all_weight)\n",
    "        if colony == colony1:\n",
    "            update_edge(graph, node, edge, f1 = read_edge_prop(graph, node, edge, f) + (ff*fer1))\n",
    "        else:\n",
    "            update_edge(graph, node, edge, f2 = read_edge_prop(graph, node, edge, f) + (ff*fer2))\n"
   ]
  },
  {
   "cell_type": "code",
   "execution_count": null,
   "metadata": {
    "collapsed": true
   },
   "outputs": [],
   "source": [
    "<h2>Hunting ants</h2>"
   ]
  },
  {
   "cell_type": "markdown",
   "metadata": {},
   "source": [
    "After the exploring ants finish running, it is the turn of the hunting ants to run. They will leverage the feromone left by exploring ants to identify the correct solutions. Hunting ants are launched still in a very sequential way from the following calls to <h_ant>, that returns *True* once all the edges included in a solution can be considered **strong enough**, hence marked <way1> for the first colony or <way2> for the second colony. The strongness of an edge is based on euristics and feromone."
   ]
  },
  {
   "cell_type": "code",
   "execution_count": null,
   "metadata": {
    "collapsed": true
   },
   "outputs": [],
   "source": [
    "term = False\n",
    "while not term:\n",
    "        term, weight = h_ant(g, N, origin, colony1, alpha)\n",
    "\n",
    "term = False\n",
    "while not term:\n",
    "        term, weight = h_ant(g, N, origin, colony2, alpha) "
   ]
  },
  {
   "cell_type": "markdown",
   "metadata": {},
   "source": [
    "<h_ant> is based on an iterative, posticipated navigation of the graph. The principal variables and parameters are the ones in the initialization part of the procedure. They are all similar to parameters and variables employed in <e_ant>."
   ]
  },
  {
   "cell_type": "code",
   "execution_count": null,
   "metadata": {
    "collapsed": true
   },
   "outputs": [],
   "source": [
    "dim_batch = 6\n",
    "\n",
    "def h_ant (g, N, origin, colony, alpha):\n",
    "    \n",
    "    stk = [] \n",
    "    clu = 'clu1' if colony == colony1 else 'clu2' \n",
    "    way = 'way1' if colony == colony1 else 'way2'\n",
    "    \n",
    "    node = origin\n",
    "    n = 0\n",
    "    all_weight = 0\n",
    "\n",
    "    NN = [{'id':N[i]['id'], 'x':N[i]['x'], 'y':N[i]['y']} for i in range(len(N))]\n",
    "    x = [N[i]['x'] for i in range(len(N))]\n",
    "    y = [N[i]['y'] for i in range(len(N))]\n",
    "    T = cKDTree(np.c_[x, y])\n",
    "\n",
    "    forced = False    "
   ]
  },
  {
   "cell_type": "markdown",
   "metadata": {},
   "source": [
    "The idea behind <h_ant> is the following:\n",
    "    + during the **anticipated visit** of the graph it first identify a valid path, with a anticipated navigation of the graph. Edges are chosed based on feromone.\n",
    "    + at each step it increment the total weight of the path (<all_weight>), the number of nodes added to the solution (<n>) and mark the node as visited in <vis>. \n",
    "    + the state of each step is recorded into the stack <stk>. The core of the state is the edge chosed at that step to move forward.\n",
    "    + once all the nodes have been added to the solution, the **posticipated visit** of nodes starts by popping the <stk> and it is checked if the edge is strong enough. In that case the edge is marked as <way1> for <colony1> (or <way2> for <colony2>) and a *cluster* is eventually formed (or managed if already existed. \n",
    "\n",
    "Clusters are group of nodes connected by strong edges. The first node of the cluster holds cluster configuration (number of nodes and total weight of the cluster), a pointer to the last node in the cluster (that provides the list of edges for the cluster) and it is the only node in the cluster that can be reached by other nodes (so it is marked as <False> in <vis>, while all the others gets marked as <True> *forever*)."
   ]
  },
  {
   "cell_type": "markdown",
   "metadata": {},
   "source": [
    "<h3>Anticipated visit of the graph: node visited for the first time</h3>"
   ]
  },
  {
   "cell_type": "markdown",
   "metadata": {},
   "source": [
    "The anticipated visit of <h_ant> takes on until all the nodes have not been visited. In case a <node> is visited for the first time (<not vis[int(node)]>) <scan_edges> is called with <batch_num = 0>. <scan_edges> returns the following results:\n",
    "\n",
    "<cluster_config> is a dictionary describing the cluster structure, holding the following keys:\n",
    "+ <n> is the number of nodes in the cluster\n",
    "+ <w> is the weight of the cluster\n",
    "+ <en> is the final node name, holding the list of edges for the cluster\n",
    "Cluster configuration is held in the graph with a special *key* in the dictionary (<clu1> for <colony1> and <clu2> for <colony2>).\n",
    "\n",
    "<tot_feromone> is the total amount of feromone that has been left by ants leaving from <node>. This will be useful for the euristic that determine if an edge is strong enough\n",
    "\n",
    "<edges> is a list of <batch_size> edges, sorted by pheromone. A list element is a dictionary with the following keys:\n",
    "    <e> is the name of the edge, i.e. <e_5:8> is a direct edge from node 5 to node 8\n",
    "    <nn> is the target node name\n",
    "    <w> is the weight of the edge\n",
    "    <score> is the score attribuited to the edge based on feromone\n",
    "\n",
    "As the number of outgoing edges might be large with 150.000 nodes, they are read in batches of <batch_size> size. Edges are tried in order, and when a batch is finished the next batch must be red. When the target node of an edge has an empty list of edges (i.e. al its targets have been already visited), the next edge is tried. \n",
    "\n",
    "A decision have been made here in balancing how many edges to include in a batch, and how often to build the edges list. In fact, as batches are ordered by feromone, every time we ask for a batch it is necessary to scan all the node's edges. Empirically it's been noticed that for the largest part of an ant life (an iteration of the algorithm), edges are discovered within the very firsts. For this reason we have set <batch_size = 6>."
   ]
  },
  {
   "cell_type": "code",
   "execution_count": null,
   "metadata": {
    "collapsed": true
   },
   "outputs": [],
   "source": [
    "while n < len(g):\n",
    "        #Every tree_refresh_interval nodes discovered refresh the tree\n",
    "        if (n % tree_refresh_interval) == 0:\n",
    "            log(verbose, 'Refreshing the tree...')\n",
    "            NN, x, y, T = refresh_tree(NN, x, y, vis)\n",
    "    \n",
    "        # first time we visit the node\n",
    "        if not vis[int(node)]:\n",
    "            vis[int(node)] = True\n",
    "            batch_num = 0\n",
    "            cluster_config, tot_feromone, edges = scan_edges(g, vis, node, origin, colony, batch_num, dim_batch, 0) \n",
    "            # edges = [{edge}]; edge = {'e':e, 'nn':nn, 'w':w, 'score':sc)\n",
    "            n = n + cluster_config['n']\n",
    "            all_weight += (cluster_config['w'])"
   ]
  },
  {
   "cell_type": "markdown",
   "metadata": {},
   "source": [
    "Next we check a series of conditions to understand how to move forward. \n",
    "\n",
    "In case <edges != []> a list of edges exist that leads to a valid target node. The first edge is selected, the state pushed to the stack and node set to <edges[0]['nn']> for the next iteration. It is worth to comment on the <stk> structure, that's a list of dictionaries with the following keys:\n",
    "- <cn>: node's name.\n",
    "- <edges>: current batch of <batch_size> edges.\n",
    "- <clu>: cluster configuration for the current node.\n",
    "- <batch_num>: the sequential id of the batch of edges. Initially it is <0>, meaning the first.\n",
    "- <i>: the edge id in the batch. Initially it is <0>, meaning the first.\n",
    "- <t_f>: total feromone\n",
    "\n",
    "When <edges == []> and <n &lt len(g)> there are still nodes to be discovered in tha path, but the current node has no edges to follow (i.e. because they all lead to already visited nodes, or because they might be reserved to the other colony). On this case we get back to the previous node, and select a different target.\n",
    "\n",
    "<forced> is a special case. It's been noticed that having enough edges per node so that a valid path can be discovered is tricky. In the initial release of the software, when all the edges didn't lead to somewhere, we simply disallocated nodes from the stack and try a different way. In the final part of the graph traversal, when nodes start to be scarse, the algorithm would start to go back and forward almost forever. In balancing such a long run (provided it ever finished) and allocating an oversised set of edges per node, we took the decision to kepp them small but stop stepping back when the list of edges terminates. In such a case we set <force = True> and the following steps are *forced*:\n",
    "1. the current node strongest edge (the first in the first batch) and its target node are forced to be in the path\n",
    "2. as its target node has an empty list of edges, a new edge is queried from the tree (<query_edges>) and added to the graph (<add_edge>) with <feromone = 0> for both colonies.\n",
    "\n",
    "The final <else> branch is the termination condition, happening when <n &eq len(g)>. In that case we sum up the closing edge (returning to the origin) weight  and we initialize variables for the posticipated visit of the graph."
   ]
  },
  {
   "cell_type": "code",
   "execution_count": null,
   "metadata": {
    "collapsed": true
   },
   "outputs": [],
   "source": [
    "            if forced: #all edges have been already tried with no success. Force a successor.\n",
    "                forced = False\n",
    "                edge = query_edges(T, N[int(node)]['x'], N[int(node)]['y'], NN, vis, node, origin, n) #return {'edge':e, 'nn':nn, 'w':ww[nn_idx]}\n",
    "                add_edge(g, node, edge['nn'], edge['edge'], \"way\", edge['w'], 0, 0, 0)\n",
    "                edges = [edge]\n",
    "\n",
    "            if edges != []: #a list of edges exist, let's take the first one!\n",
    "                all_weight += edges[0]['w']\n",
    "                stk.append({'cn':node, 'edges':edges, 'clu':cluster_config, 'batch_num':0, 'i':0, 't_f':tot_feromone})\n",
    "                node = edges[0]['nn']\n",
    "            elif n < len(g): #a list of edges doesn't exists but there are still nodes to be discovered\n",
    "                vis[int(node)] = False\n",
    "                n -= cluster_config['n']\n",
    "                all_weight -= (cluster_config['w'])\n",
    "                s = stk.pop()\n",
    "                node = s['cn']\n",
    "            else: #and not force\n",
    "                all_weight += math.sqrt((N[int(node)]['x']-N[int(origin)]['x'])**2 + (N[int(node)]['y']-N[int(origin)]['y'])**2)\n",
    "                cluster_config = {'en':node, 'w':0, 'n':1} if clu not in g[node].keys() else g[node][clu]\n",
    "                one_cluster = True\n",
    "                vis[int(node)] = False "
   ]
  },
  {
   "cell_type": "markdown",
   "metadata": {},
   "source": [
    "<h3>Anticipated visit of the graph: node already visited</h3>"
   ]
  },
  {
   "cell_type": "markdown",
   "metadata": {},
   "source": [
    "In case the current node is already visited (<vis[int(node)]>) it means that we already tried some of its edges, but they led to a blind way (target nodes with an empty list of edges to follow). What we need to do is selecting, if possible, a new edge or force a path.\n",
    "\n",
    "We first pop the node's status from the stack, decrease <all_weight> of the weight of the last edge tried and failed, and pass to the next edge in the list (<i = i+1>). In case it was the last edge in the list (<i &gr; len(edges)-1>) we need to read the next batch from the graph by calling <scan_edges> again. \n",
    "\n",
    "In case <scan_edges> returns is an empty list (<edges &eq;&eq; []>) it means there are no more edges to try, and we are in the situation an edge have to be forced. So <scan_edges> might be called again to load the first edge in the first batch: that's the best edge we have in terms of feromone, and that's the one we want to force in the path. Finally we set <forced &eq; True> so that the next iteration happening on the target of the forced edge, will know that although that node has an empty list of edges, it must be forced to the path by pulling a new edge from the tree (see code above).\n",
    "\n",
    "This hibrid mechanism of prioritizing edges by feromone, and eventually pulling never seen edges from the tree in case of need, greately improved performance. A single ant run takes around 45 seconds on a laptop."
   ]
  },
  {
   "cell_type": "code",
   "execution_count": null,
   "metadata": {
    "collapsed": true
   },
   "outputs": [],
   "source": [
    "        else:\n",
    "            #s holds the stack element popped before\n",
    "            cluster_config = s['clu']\n",
    "            edges = s['edges']\n",
    "            batch_num = s['batch_num']\n",
    "            i = s['i']\n",
    "            tot_feromone = s['t_f']\n",
    "\n",
    "            all_weight = all_weight - edges[i]['w']           \n",
    "            i = i+1 \n",
    "            if i > len(edges)-1:\n",
    "                batch_num += 1\n",
    "                i = 0\n",
    "                cluster_config, tot_feromone, edges = scan_edges(g, vis, node, origin, colony, batch_num, dim_batch, tot_feromone)\n",
    "                    \n",
    "            if edges == []:\n",
    "                    #force the best edge \n",
    "                    if batch_num == 0: #first batch already loaded, just point to the first element                      \n",
    "                        i = 0\n",
    "                    else:\n",
    "                        batch_num = 0\n",
    "                        i = 0\n",
    "                        cluster_config, tot_feromone, edges = scan_edges(g, vis, node, origin, colony, batch_num, dim_batch, tot_feromone)\n",
    "                    \n",
    "                    forced = True             "
   ]
  },
  {
   "cell_type": "markdown",
   "metadata": {},
   "source": [
    "Whatever is the way we pick the next edge, we put it into the stack and iterate"
   ]
  },
  {
   "cell_type": "code",
   "execution_count": null,
   "metadata": {
    "collapsed": true
   },
   "outputs": [],
   "source": [
    "            all_weight += edges[i]['w'] \n",
    "            stk.append({'cn':node, 'edges':edges, 'clu': cluster_config,'batch_num':batch_num, 'i':i, 't_f':tot_feromone})\n",
    "            node = edges[i]['nn'] "
   ]
  },
  {
   "cell_type": "code",
   "execution_count": null,
   "metadata": {
    "collapsed": true
   },
   "outputs": [],
   "source": [
    "<h3>Posticipated visit of the graph</h3>"
   ]
  },
  {
   "cell_type": "markdown",
   "metadata": {},
   "source": [
    "Once the anticipated visit of the graph has touched all the nodes in the graph, we get back by pulling edges from the stack and do some work:\n",
    "- feromone is left\n",
    "- we need to check if edges are strong enough\n",
    "- for strong edges, clusters are managed\n",
    "- we need to generate the termination condition for <h_ant> (being all edges in the path being strong)"
   ]
  },
  {
   "cell_type": "code",
   "execution_count": null,
   "metadata": {
    "collapsed": true
   },
   "outputs": [],
   "source": [
    "while stk != []:\n",
    "        s = stk.pop()  \n",
    "        #stk elemnt is {'cn':n, 'edges':es, 'clu':clu, 'batch_num':bn, 'i':i, 't_f':tf}\n",
    "        #edges = [{'edge':e, 'nn':nn, 'w':w, 'score':score}]\n",
    "        node = s['cn']\n",
    "        node_config = s['clu']\n",
    "        edge = s['edges'][s['i']]['edge']\n",
    "        nn = read_edge_prop(g, node_config['en'], edge, 'nn')          \n",
    "        \n",
    "        tot_feromone = s['t_f']\n",
    "        \n",
    "        #release feromone\n",
    "        release_feromone (g, node_config['en'], edge, colony, 'reward', read_edge_prop(g, node_config['en'], edge, 'w'), all_weight, alpha)\n",
    "        \n",
    "        #clustering\n",
    "        vis[int(node)] = False \n",
    "        edg = read_edge(g, node_config['en'], edge)\n",
    "        f = edg['f1'] if colony == colony1 else edg['f2']\n",
    "        vs_f = edg['f2'] if colony == colony1 else edg['f1']"
   ]
  },
  {
   "cell_type": "markdown",
   "metadata": {},
   "source": [
    "First the stack is popped, and we get a dictionary like <{'cn':n, 'edges':es, 'clu':clu, 'batch_num':bn, 'i':i, 't_f':tf}>. Feromone is left by calling the **reward** schema in <release_feromone>. The following piece of code is extracted form <release_feromone>: we basically reward ad edge in the path by increasing its feromone by <fer_reward>. This is one of the most critical parameters in the algorithms:\n",
    "- with large values (say 10) a lower number of ants would be necessary to converge, because the algortims terminate only when al the edges in the path are strong, meaning an edge holds a certain quota of the total feromone for the node, and has a certain advantage over the competing colony\n",
    "- with small values (say 0.5) we would get better results at the price of running for longer"
   ]
  },
  {
   "cell_type": "code",
   "execution_count": null,
   "metadata": {
    "collapsed": true
   },
   "outputs": [],
   "source": [
    "    if direction == \"reward\":\n",
    "        if colony == colony1:\n",
    "            ff = (alpha * fer1) / (weight * all_weight)  if read_edge_prop (graph, node, edge, 'f1') == 0 else read_edge_prop (graph, node, edge, 'f1')\n",
    "            update_edge(graph, node, edge, f1=ff * fer_reward)\n",
    "        else:\n",
    "            ff = (alpha * fer2) / (weight * all_weight) if read_edge_prop (graph, node, edge, 'f2') == 0 else read_edge_prop (graph, node, edge, 'f2')\n",
    "            update_edge(graph, node, edge, f2 = ff * fer_reward)"
   ]
  },
  {
   "cell_type": "markdown",
   "metadata": {},
   "source": [
    "Moving forward on the main procedure we test if the edge is **strong enough** by using the following euristic:\n",
    "    - it must be 3x stronger than the competing colony\n",
    "    - it must account for at least 40\\% of the total feromone of the node\n",
    "    \n",
    "In case the edge is strong it means that the current node and its target node belong to a cluster and we perform the following operations:\n",
    "- update the cluster configuration <cluster_config =  {'en':en, 'w': w, 'n': n}>. It is worth to note that a new cluster configuration is initialized for the current node every time a not strong edge (<is_prime> is <False>) is encountered.\n",
    "- delete cluster keys from the current and target nodes, as a new cluster key will be generated on the first node of the cluster once it will be encountered.\n",
    "- assign the edge to the final solution, by marking it as <way1> (or <way2>). The other edges feromone will be reset to <0> in order to favour <colony2> to converge.\n",
    "- block the inverse edge, as it can't be selected any more by either <colony1> or <colony2>. This is a Kaggle's requirement.\n",
    "\n",
    "It is worth to note that when we start stepping back on the stack, we release every node (<vis[node]=False>) for the next iteration. In case a node is the source or the target of a strong edge, it is set again to <True>, unless it is the first node of a lcuster: this way the next iterations will only discovers clusters, not single nodes being part of a cluster, considerably speeding up processing."
   ]
  },
  {
   "cell_type": "code",
   "execution_count": null,
   "metadata": {
    "collapsed": true
   },
   "outputs": [],
   "source": [
    "        is_prime = (f > 3*vs_f and f > 0.4*tot_feromone)\n",
    "\n",
    "        if is_prime:\n",
    "            en = cluster_config['en']\n",
    "            w = node_config['w'] + cluster_config['w'] + edg['w']\n",
    "            n = node_config['n'] + cluster_config['n']\n",
    "            \n",
    "            #if clusters already exist in the graph for either the current node or target node, delete them\n",
    "            #a new cluster key will be created once we encounter the cluster's first node\n",
    "            if clu in g[node].keys():\n",
    "                del g[node][clu]\n",
    "            \n",
    "            if clu in g[nn].keys():\n",
    "                del g[nn][clu]\n",
    "\n",
    "            #update cluster_config and retire the target node from being pulled by next iterations\n",
    "            cluster_config =  {'en':en, 'w': w, 'n': n}\n",
    "            vis[int(nn)] = True\n",
    "            \n",
    "            #mark the edge as \"way1\" or \"way2\" and reset the feromone for the other edges in order to favour the competing colony\n",
    "            update_edge(g, node_config['en'], edge, lb=way)\n",
    "            release_feromone(g, node_config['en'], edge, colony, 'reset', 0, 0, 0)\n",
    "            \n",
    "            #mark the inverse edge as \"blocked\" - it can't be chosen any more\n",
    "            for e in get_edges(g, nn):\n",
    "                if read_edge_prop(g, nn, e, 'nn') == node_config['en']:\n",
    "                    update_edge(g, nn, e, lb=\"blocked\")\n",
    "                    break  "
   ]
  },
  {
   "cell_type": "markdown",
   "metadata": {},
   "source": [
    "In case the edge is not strong, it means that it represents a border between two different clusters (eventually of one node!). So the current node target is the first node of a cluster, and we will generate a graph key with the cluster configuration for the target node (how many nodes it encompass, what's the total weight of its edges and who is the final node holding the list of successors)."
   ]
  },
  {
   "cell_type": "code",
   "execution_count": null,
   "metadata": {
    "collapsed": true
   },
   "outputs": [],
   "source": [
    "        else:\n",
    "            if cluster_config['en'] != nn:\n",
    "                g[nn][clu] = cluster_config \n",
    "            cluster_config = node_config"
   ]
  },
  {
   "cell_type": "markdown",
   "metadata": {},
   "source": [
    "Finally we check the termination condition and the procedure returns. The termination condition fires when all the edges in the path are strong. It is worth to note that when this condition happens, we have one single cluster holding all the nodes and the selected edges. Those edges are recognizable easily because they are marked as <way1> or <way2> on the graph."
   ]
  },
  {
   "cell_type": "code",
   "execution_count": null,
   "metadata": {
    "collapsed": true
   },
   "outputs": [],
   "source": [
    "        #termination condition\n",
    "        one_cluster = one_cluster if is_prime else False\n",
    "\n",
    "    return one_cluster, all_weight"
   ]
  },
  {
   "cell_type": "markdown",
   "metadata": {},
   "source": [
    "<h3>Scan_edges</h3>"
   ]
  },
  {
   "cell_type": "markdown",
   "metadata": {},
   "source": [
    "An important procedure that has been used by <h-ant> is <scan_edges>, that for a certain node selects a batch of edges sorted by feromone and returns the total feromone for the edge and the node's cluster configuration.\n",
    "\n",
    "As a first thing <scan_edges> checks if <node> is part of a cluster by checking if a <clu1> key for <colony1> or a <clu2> key for <colony2> exists. In case it does it pull from the graph the node's cluster configuration. If it doesn't it means that the node doesn't belong to any cluster, so its cluster configuration is initialized."
   ]
  },
  {
   "cell_type": "code",
   "execution_count": null,
   "metadata": {
    "collapsed": true
   },
   "outputs": [],
   "source": [
    "def scan_edges(graph, vis, node, origin, colony, batch_num, dim_batch, tot_feromone):\n",
    "    if 'clu1' in list(graph[node].keys()) and colony == colony1:\n",
    "        node_edges = graph[node]['clu1']['en']\n",
    "        clu_w = graph[node]['clu1']['w']\n",
    "        clu_n = graph[node]['clu1']['n']\n",
    "    elif 'clu2' in list(graph[node].keys()) and colony == colony2:\n",
    "        node_edges = graph[node]['clu2']['en']\n",
    "        clu_w = graph[node]['clu2']['w']\n",
    "        clu_n = graph[node]['clu2']['n']\n",
    "    else:\n",
    "        node_edges = node\n",
    "        clu_w = 0 \n",
    "        clu_n = 1\n",
    "    \n",
    "    clu = {'en':node_edges, 'n':clu_n, 'w':clu_w}"
   ]
  },
  {
   "cell_type": "markdown",
   "metadata": {},
   "source": [
    "If <tot_feromone> parameter is zero, then total feromone should be calculated. It basically requires to scan all the outgoing edges of the node, and sum up feromone for the two colonies for all viable edges (basically those not marked as either <blocked> or <way2> for <colony1> (or <way1> for <colony2>)"
   ]
  },
  {
   "cell_type": "code",
   "execution_count": null,
   "metadata": {
    "collapsed": true
   },
   "outputs": [],
   "source": [
    "    if tot_feromone == 0:\n",
    "        tot_f1, tot_f2 = 0, 0\n",
    "        for e in get_edges(graph, node_edges):\n",
    "            edg = read_edge(graph, node_edges, e)\n",
    "            lb = edg['lb'] \n",
    "            nn = edg['nn'] \n",
    "            \n",
    "            if nn != origin and ((colony == colony1 and lb not in ('blocked', \"way2\")) or (colony == colony2 and lb not in ('blocked', 'way1'))):\n",
    "                    tot_f1 += edg['f1'] \n",
    "                    tot_f2 += edg['f2'] \n",
    "    else:\n",
    "        tot_f1, tot_f2 = tot_feromone, tot_feromone"
   ]
  },
  {
   "cell_type": "markdown",
   "metadata": {},
   "source": [
    "Next we need to collect the list of edges for the node. It is basically a simple cycle over all the node's edges in the graph where we only pick the viable ones (basically those **not already visited** and not marked as either <blocked> or <way2> for <colony1> (or <way1> for <colony2>)"
   ]
  },
  {
   "cell_type": "code",
   "execution_count": null,
   "metadata": {
    "collapsed": true
   },
   "outputs": [],
   "source": [
    "    edges = []\n",
    "    edge = {}\n",
    "    f1, f2 = 0, 0\n",
    "    tot_f = tot_f1 if colony == colony1 else tot_f2\n",
    "\n",
    "    for e in get_edges(graph, node_edges):  \n",
    "        edg = read_edge(graph, node_edges, e)\n",
    "        lb = edg['lb'] \n",
    "        nn = edg['nn']\n",
    "        if not vis[int(nn)] and lb != 'blocked' and nn != origin and ((colony == colony1 and lb != \"way2\") or (colony == colony2 and lb != \"way1\")):\n",
    "            #nn = edg['nn'] \n",
    "            w = edg['w'] \n",
    "            f1 = edg['f1'] \n",
    "            f2 = edg['f2'] \n",
    "            score = 0\n",
    "            \n",
    "            "
   ]
  },
  {
   "cell_type": "markdown",
   "metadata": {},
   "source": [
    "For each viable edge a score is calculated by employng the following euristic:\n",
    "- if the edge is strong it gets a random score in <(16, 20)>\n",
    "- if the edge is not strong enough vs. the competing colony, but account for at least 40\\% of the total feromone in the node, then it get a random score in <(11, 15)>\n",
    "- if the edge is strong enough vs. the competing colony, but doesn't account for at least 40\\% of the total feromone in the node, then it get a random score in <(6, 10)>\n",
    "- if the edge's feromone is just at least 80\\% of the competing colony it is scored in <(1, 5)>\n",
    "\n",
    "Basically we wanted to prioritize all the strong edges first, then those that are strong in their colony (but not vs. the other one), then those that are stronger enough than the competition but with an amount of uncertainty regarding the colony winner, and then all the rest.\n",
    "\n",
    "in case there was more edges belonging to the same profile, the decision is random."
   ]
  },
  {
   "cell_type": "code",
   "execution_count": null,
   "metadata": {
    "collapsed": true
   },
   "outputs": [],
   "source": [
    "            f = f1 if colony == colony1 else f2\n",
    "            vs_f = f2 if colony == colony1 else f1  \n",
    "                    \n",
    "            if f > 3*vs_f and f > 0.4*tot_f:\n",
    "                score = random.uniform(16,20)\n",
    "            elif (f <= 3*vs_f and f > 0.4 * tot_f):\n",
    "                score = random.uniform(11,15)\n",
    "            elif (f > 3*vs_f and f <= 0.4*tot_f):\n",
    "                score = random.uniform(6,10)    \n",
    "            elif f > 0.8*vs_f:\n",
    "                score = random.uniform(1,5)                    \n",
    "            else:\n",
    "                score = 0\n",
    "                \n",
    "            edge = {'edge':e, 'nn':nn, 'w':w, 'score':score}\n",
    "            edges.append(edge) \n",
    "\n",
    "    "
   ]
  },
  {
   "cell_type": "markdown",
   "metadata": {},
   "source": [
    "Finally we return the right batch of edges after having sorted the list by score or, eventually, an empty list."
   ]
  },
  {
   "cell_type": "code",
   "execution_count": null,
   "metadata": {
    "collapsed": true
   },
   "outputs": [],
   "source": [
    "if batch_num * dim_batch > len(edges): #left end of the required batch follow over the right end of the list of edges \n",
    "        return clu, tot_f, []\n",
    "    else:\n",
    "        edges.sort(key = lambda t: t['score'], reverse = True)\n",
    "        return clu, tot_f, edges[batch_num*dim_batch:(batch_num+1)*dim_batch]"
   ]
  }
 ],
 "metadata": {
  "kernelspec": {
   "display_name": "Python [Root]",
   "language": "python",
   "name": "Python [Root]"
  },
  "language_info": {
   "codemirror_mode": {
    "name": "ipython",
    "version": 3
   },
   "file_extension": ".py",
   "mimetype": "text/x-python",
   "name": "python",
   "nbconvert_exporter": "python",
   "pygments_lexer": "ipython3",
   "version": "3.5.2"
  }
 },
 "nbformat": 4,
 "nbformat_minor": 0
}
